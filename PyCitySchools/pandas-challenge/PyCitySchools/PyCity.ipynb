{
 "cells": [
  {
   "cell_type": "code",
   "execution_count": null,
   "id": "eecb8310-800d-482a-9d8a-cf298ea382e6",
   "metadata": {},
   "outputs": [],
   "source": [
    "# Imports\n",
    "\n",
    "import pandas as pd\n",
    "from pathlib import Path\n",
    "\n",
    "# Csv Files\n",
    "school_data_load = Path(\"/Users/andrewsobiech/Desktop/Classwork/UNCC-VIRT-DATA-PT-06-2024-U-LOLC-main/github repositories/pandas-challenge/PyCitySchools/Resources/schools_complete.csv\")\n",
    "student_data_load = Path(\"/Users/andrewsobiech/Desktop/Classwork/UNCC-VIRT-DATA-PT-06-2024-U-LOLC-main/github repositories/pandas-challenge/PyCitySchools/Resources/students_complete.csv\")\n",
    "\n",
    "# School and Student Data File, store in Pandas DataFrames\n",
    "school_data = pd.read_csv(school_data_to_load)\n",
    "student_data = pd.read_csv(student_data_to_load)\n",
    "\n",
    "# Combine data into a dataset\n",
    "school_data_complete = pd.merge(student_data, school_data, how=\"left\", on=[\"school_name\", \"school_name\"])\n",
    "school_data_complete.head()"
   ]
  },
  {
   "cell_type": "code",
   "execution_count": null,
   "id": "58f23c88-2cce-4ff3-99b8-3d55a202c4ea",
   "metadata": {},
   "outputs": [],
   "source": [
    "# total number of unique schools\n",
    "school_count = school_data[\"school_name\"].nunique()"
   ]
  },
  {
   "cell_type": "code",
   "execution_count": null,
   "id": "e9768a37-021c-4ecc-9c28-08b7e658888c",
   "metadata": {},
   "outputs": [],
   "source": [
    "# total number of students\n",
    "student_count = school_data_complete[\"student_name\"].count()"
   ]
  },
  {
   "cell_type": "code",
   "execution_count": null,
   "id": "718f79a8-128a-418d-aefd-1517a90b0ef0",
   "metadata": {},
   "outputs": [],
   "source": [
    "# total budgett\n",
    "total_budget = school_data[\"budget\"].sum()"
   ]
  },
  {
   "cell_type": "code",
   "execution_count": 24,
   "id": "59c55a9a-c393-440f-8a8e-3f8352cff59c",
   "metadata": {},
   "outputs": [],
   "source": [
    "# the mean math score\n",
    "average_math_score = school_data_complete[\"math_score\"].mean()"
   ]
  },
  {
   "cell_type": "code",
   "execution_count": 27,
   "id": "5c41c3a6-1b3d-4d9b-a32d-17c004bb2de1",
   "metadata": {},
   "outputs": [],
   "source": [
    "# the mean reading score\n",
    "average_reading_score = school_data_complete[\"reading_score\"].mean()"
   ]
  },
  {
   "cell_type": "code",
   "execution_count": 30,
   "id": "ea635e96-0c28-4b8c-b81a-428a5c826929",
   "metadata": {},
   "outputs": [],
   "source": [
    "# % of students passing math\n",
    "passing_math_count = school_data_complete[school_data_complete[\"math_score\"] >= 70].count()[\"student_name\"]\n",
    "passing_math_percentage = (passing_math_count / float(student_count)) * 100\n"
   ]
  },
  {
   "cell_type": "code",
   "execution_count": 32,
   "id": "055bf052-6a83-4a45-a5c4-c3a88026fabf",
   "metadata": {},
   "outputs": [],
   "source": [
    "# % of students passing reading\n",
    "passing_reading_count = school_data_complete[school_data_complete[\"reading_score\"] >= 70].count()[\"student_name\"]\n",
    "passing_reading_percentage = (passing_reading_count / float(student_count)) * 100"
   ]
  },
  {
   "cell_type": "code",
   "execution_count": 33,
   "id": "8d36ef24-87b3-4ea4-8f42-c7758ce78953",
   "metadata": {},
   "outputs": [],
   "source": [
    "# % of students passing both reading and math\n",
    "passing_math_reading_count = school_data_complete[\n",
    "    (school_data_complete['math_score'] >= 70) & (school_data_complete['reading_score'] >= 70)\n",
    "].count()['student_name']\n",
    "overall_passing_rate = (passing_math_reading_count / float(student_count)) * 100"
   ]
  },
  {
   "cell_type": "code",
   "execution_count": 35,
   "id": "2fc588e6-dd26-4748-881a-0eca162405ea",
   "metadata": {},
   "outputs": [],
   "source": [
    "# Disctricts key metrics in a dataframe\n",
    "district_summary = pd.DataFrame({\n",
    "    \"Total Schools\": [school_count],\n",
    "    \"Total Students\": [student_count],\n",
    "    \"Total Budget\": [total_budget],\n",
    "    \"Average Math Score\": [average_math_score],\n",
    "    \"Average Reading Score\": [average_reading_score],\n",
    "    \"Percent Passing Math\": [passing_math_percentage],\n",
    "    \"Percent Passing Reading\": [passing_reading_percentage],\n",
    "    \"Percent Overall Passing\": [overall_passing_rate]\n",
    "})\n",
    "\n",
    "district_summary['Total Students'] = district_summary['Total Students'].map(\"{:,}\".format)\n",
    "district_summary['Total Budget'] = district_summary['Total Budget'].map(\"${:,.2f}\".format)\n"
   ]
  },
  {
   "cell_type": "code",
   "execution_count": 37,
   "id": "dd0f056a-7db0-42ee-82da-d79814932ec4",
   "metadata": {},
   "outputs": [],
   "source": [
    "# School Summary\n",
    "\n",
    "# School Types\n",
    "school_types = school_data.set_index([\"school_name\"])[\"type\"]"
   ]
  },
  {
   "cell_type": "code",
   "execution_count": 38,
   "id": "8a193d40-dfb1-401a-9dfb-09846122b039",
   "metadata": {},
   "outputs": [],
   "source": [
    "# Total students per school\n",
    "\n",
    "per_school_counts = school_data_complete['school_name'].value_counts()"
   ]
  },
  {
   "cell_type": "code",
   "execution_count": 42,
   "id": "43851e98-8359-4511-a839-08a9c53f995e",
   "metadata": {},
   "outputs": [
    {
     "name": "stdout",
     "output_type": "stream",
     "text": [
      "school_name\n",
      "Bailey High School       3124928.0\n",
      "Cabrera High School      1081356.0\n",
      "Figueroa High School     1884411.0\n",
      "Ford High School         1763916.0\n",
      "Griffin High School       917500.0\n",
      "Hernandez High School    3022020.0\n",
      "Holden High School        248087.0\n",
      "Huang High School        1910635.0\n",
      "Johnson High School      3094650.0\n",
      "Pena High School          585858.0\n",
      "Rodriguez High School    2547363.0\n",
      "Shelton High School      1056600.0\n",
      "Thomas High School       1043130.0\n",
      "Wilson High School       1319574.0\n",
      "Wright High School       1049400.0\n",
      "Name: budget, dtype: float64\n",
      "school_name\n",
      "Bailey High School       628.0\n",
      "Cabrera High School      582.0\n",
      "Figueroa High School     639.0\n",
      "Ford High School         644.0\n",
      "Griffin High School      625.0\n",
      "Hernandez High School    652.0\n",
      "Holden High School       581.0\n",
      "Huang High School        655.0\n",
      "Johnson High School      650.0\n",
      "Pena High School         609.0\n",
      "Rodriguez High School    637.0\n",
      "Shelton High School      600.0\n",
      "Thomas High School       638.0\n",
      "Wilson High School       578.0\n",
      "Wright High School       583.0\n",
      "dtype: float64\n"
     ]
    }
   ],
   "source": [
    "# Total school budget and per capita spending\n",
    "\n",
    "school_data_complete['budget'] = pd.to_numeric(school_data_complete['budget'], errors='coerce')\n",
    "school_data_complete = school_data_complete.dropna(subset=['budget'])\n",
    "per_school_budget = school_data_complete.groupby(\"school_name\")['budget'].mean()\n",
    "per_school_capita = per_school_budget / school_data_complete.groupby(\"school_name\").size()\n",
    "print(per_school_budget)\n",
    "print(per_school_capita)"
   ]
  },
  {
   "cell_type": "code",
   "execution_count": 43,
   "id": "b53f9185-e1ea-4242-b707-5e30aee9301e",
   "metadata": {},
   "outputs": [],
   "source": [
    "# Passing scores by school\n",
    "\n",
    "school_passing_math = school_data_complete[school_data_complete['math_score'] >= 70].groupby(\"school_name\").count()['student_name']\n",
    "school_passing_reading = school_data_complete[school_data_complete['reading_score'] >= 70].groupby(\"school_name\").count()['student_name']"
   ]
  },
  {
   "cell_type": "code",
   "execution_count": 49,
   "id": "ea4080dd-e576-4fbd-bc86-b7ab9124edba",
   "metadata": {},
   "outputs": [
    {
     "name": "stdout",
     "output_type": "stream",
     "text": [
      "school_name\n",
      "Bailey High School       628.0\n",
      "Cabrera High School      582.0\n",
      "Figueroa High School     639.0\n",
      "Ford High School         644.0\n",
      "Griffin High School      625.0\n",
      "Hernandez High School    652.0\n",
      "Holden High School       581.0\n",
      "Huang High School        655.0\n",
      "Johnson High School      650.0\n",
      "Pena High School         609.0\n",
      "Rodriguez High School    637.0\n",
      "Shelton High School      600.0\n",
      "Thomas High School       638.0\n",
      "Wilson High School       578.0\n",
      "Wright High School       583.0\n",
      "dtype: float64\n"
     ]
    }
   ],
   "source": [
    "# Total school budget and per capita spending\n",
    "per_school_budget = school_data_complete.groupby(\"school_name\")[\"budget\"].mean()\n",
    "per_school_counts = school_data_complete.groupby(\"school_name\")[\"student_name\"].size()\n",
    "per_school_capita = per_school_budget / per_school_counts\n",
    "print(per_school_capita)"
   ]
  },
  {
   "cell_type": "code",
   "execution_count": 51,
   "id": "4c3c870b-dcb9-4913-afa0-2036a5b33142",
   "metadata": {},
   "outputs": [
    {
     "name": "stdout",
     "output_type": "stream",
     "text": [
      "school_name\n",
      "Bailey High School       77.048432\n",
      "Cabrera High School      83.061895\n",
      "Figueroa High School     76.711767\n",
      "Ford High School         77.102592\n",
      "Griffin High School      83.351499\n",
      "Hernandez High School    77.289752\n",
      "Holden High School       83.803279\n",
      "Huang High School        76.629414\n",
      "Johnson High School      77.072464\n",
      "Pena High School         83.839917\n",
      "Rodriguez High School    76.842711\n",
      "Shelton High School      83.359455\n",
      "Thomas High School       83.418349\n",
      "Wilson High School       83.274201\n",
      "Wright High School       83.682222\n",
      "Name: math_score, dtype: float64\n",
      "school_name\n",
      "Bailey High School       81.033963\n",
      "Cabrera High School      83.975780\n",
      "Figueroa High School     81.158020\n",
      "Ford High School         80.746258\n",
      "Griffin High School      83.816757\n",
      "Hernandez High School    80.934412\n",
      "Holden High School       83.814988\n",
      "Huang High School        81.182722\n",
      "Johnson High School      80.966394\n",
      "Pena High School         84.044699\n",
      "Rodriguez High School    80.744686\n",
      "Shelton High School      83.725724\n",
      "Thomas High School       83.848930\n",
      "Wilson High School       83.989488\n",
      "Wright High School       83.955000\n",
      "Name: reading_score, dtype: float64\n"
     ]
    }
   ],
   "source": [
    "# Filter the dataset to include only the numeric columns\n",
    "numeric_cols = school_data_complete.select_dtypes(include=['number'])\n",
    "\n",
    "# Group by school_name and calculate the mean for each numeric column\n",
    "per_school_math = numeric_cols.groupby(school_data_complete[\"school_name\"]).mean()['math_score']\n",
    "per_school_reading = numeric_cols.groupby(school_data_complete[\"school_name\"]).mean()['reading_score']\n",
    "\n",
    "# Display the results\n",
    "print(per_school_math)\n",
    "print(per_school_reading)"
   ]
  },
  {
   "cell_type": "code",
   "execution_count": null,
   "id": "a2c29ae0-8a3f-47ee-bbba-3c59dd5930f8",
   "metadata": {},
   "outputs": [],
   "source": []
  }
 ],
 "metadata": {
  "kernelspec": {
   "display_name": "Python 3 (ipykernel)",
   "language": "python",
   "name": "python3"
  },
  "language_info": {
   "codemirror_mode": {
    "name": "ipython",
    "version": 3
   },
   "file_extension": ".py",
   "mimetype": "text/x-python",
   "name": "python",
   "nbconvert_exporter": "python",
   "pygments_lexer": "ipython3",
   "version": "3.12.4"
  }
 },
 "nbformat": 4,
 "nbformat_minor": 5
}
